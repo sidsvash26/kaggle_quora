{
 "cells": [
  {
   "cell_type": "code",
   "execution_count": 4,
   "metadata": {
    "collapsed": true
   },
   "outputs": [],
   "source": [
    "#Cities data taken from - https://www.kaggle.com/blitzr/movehub-city-rankings   - cities.csv\n",
    "\n",
    "#Using output files of above script\n",
    "import pandas as pd\n",
    "import numpy as np\n",
    "\n",
    "\n",
    "data_folder = '/home/sidsvash26/kaggle_quora/data/'\n",
    "\n"
   ]
  },
  {
   "cell_type": "code",
   "execution_count": 6,
   "metadata": {
    "collapsed": false
   },
   "outputs": [],
   "source": [
    "import numpy as np # linear algebra\n",
    "import pandas as pd # data processing, CSV file I/O (e.g. pd.read_csv)\n",
    "import re\n",
    "\n",
    "from subprocess import check_output\n",
    "df = pd.read_csv(data_folder + 'train.csv')\n",
    "locations = pd.read_csv(data_folder + 'cities.csv')"
   ]
  },
  {
   "cell_type": "code",
   "execution_count": 8,
   "metadata": {
    "collapsed": false,
    "scrolled": true
   },
   "outputs": [],
   "source": [
    "# There's lots of room to add more locations, but start with just countries\n",
    "countries = set(locations['Country'].dropna(inplace=False).values.tolist())\n",
    "all_places = countries\n",
    "\n",
    "# Turn it into a Regex\n",
    "regex = \"|\".join(sorted(set(all_places)))"
   ]
  },
  {
   "cell_type": "code",
   "execution_count": 9,
   "metadata": {
    "collapsed": false
   },
   "outputs": [
    {
     "name": "stderr",
     "output_type": "stream",
     "text": [
      "1it [00:00,  7.31it/s]"
     ]
    },
    {
     "name": "stdout",
     "output_type": "stream",
     "text": [
      "processing: (404290, 6)\n"
     ]
    },
    {
     "name": "stderr",
     "output_type": "stream",
     "text": [
      "404290it [03:19, 2024.38it/s]\n"
     ]
    }
   ],
   "source": [
    "from tqdm import tqdm\n",
    "\n",
    "subset = df.shape[0] # Remove the subsetting \n",
    "\n",
    "results = []\n",
    "print(\"processing:\", df[0:subset].shape)\n",
    "for index, row in tqdm(df[0:subset].iterrows()):\n",
    "    q1 = str(row['question1'])\n",
    "    q2 = str(row['question2'])\n",
    "\n",
    "    rr = {}\n",
    "\n",
    "    q1_matches = []\n",
    "    q2_matches = []\n",
    "\n",
    "    if (len(q1) > 0):\n",
    "        q1_matches = [i.lower() for i in re.findall(regex, q1, flags=re.IGNORECASE)]\n",
    "\n",
    "    if (len(q2) > 0):\n",
    "        q2_matches = [i.lower() for i in re.findall(regex, q2, flags=re.IGNORECASE)]\n",
    "\n",
    "    rr['z_q1_place_num'] = len(q1_matches)\n",
    "    rr['z_q1_has_place'] =len(q1_matches) > 0\n",
    "\n",
    "    rr['z_q2_place_num'] = len(q2_matches) \n",
    "    rr['z_q2_has_place'] = len(q2_matches) > 0\n",
    "\n",
    "    rr['z_place_match_num'] = len(set(q1_matches).intersection(set(q2_matches)))\n",
    "    rr['z_place_match'] = rr['z_place_match_num'] > 0\n",
    "\n",
    "    rr['z_place_mismatch_num'] = len(set(q1_matches).difference(set(q2_matches)))\n",
    "    rr['z_place_mismatch'] = rr['z_place_mismatch_num'] > 0\n",
    "\n",
    "    results.append(rr)  \n",
    "    \n"
   ]
  },
  {
   "cell_type": "code",
   "execution_count": 10,
   "metadata": {
    "collapsed": true
   },
   "outputs": [],
   "source": [
    "out_df = pd.DataFrame.from_dict(results)"
   ]
  },
  {
   "cell_type": "code",
   "execution_count": 12,
   "metadata": {
    "collapsed": false
   },
   "outputs": [
    {
     "data": {
      "text/plain": [
       "(404290, 8)"
      ]
     },
     "execution_count": 12,
     "metadata": {},
     "output_type": "execute_result"
    }
   ],
   "source": [
    "out_df.shape"
   ]
  },
  {
   "cell_type": "code",
   "execution_count": 13,
   "metadata": {
    "collapsed": false
   },
   "outputs": [
    {
     "data": {
      "text/html": [
       "<div>\n",
       "<table border=\"1\" class=\"dataframe\">\n",
       "  <thead>\n",
       "    <tr style=\"text-align: right;\">\n",
       "      <th></th>\n",
       "      <th>z_place_match</th>\n",
       "      <th>z_place_match_num</th>\n",
       "      <th>z_place_mismatch</th>\n",
       "      <th>z_place_mismatch_num</th>\n",
       "      <th>z_q1_has_place</th>\n",
       "      <th>z_q1_place_num</th>\n",
       "      <th>z_q2_has_place</th>\n",
       "      <th>z_q2_place_num</th>\n",
       "    </tr>\n",
       "  </thead>\n",
       "  <tbody>\n",
       "    <tr>\n",
       "      <th>0</th>\n",
       "      <td>False</td>\n",
       "      <td>0</td>\n",
       "      <td>True</td>\n",
       "      <td>1</td>\n",
       "      <td>True</td>\n",
       "      <td>1</td>\n",
       "      <td>False</td>\n",
       "      <td>0</td>\n",
       "    </tr>\n",
       "    <tr>\n",
       "      <th>1</th>\n",
       "      <td>False</td>\n",
       "      <td>0</td>\n",
       "      <td>False</td>\n",
       "      <td>0</td>\n",
       "      <td>False</td>\n",
       "      <td>0</td>\n",
       "      <td>True</td>\n",
       "      <td>1</td>\n",
       "    </tr>\n",
       "    <tr>\n",
       "      <th>2</th>\n",
       "      <td>False</td>\n",
       "      <td>0</td>\n",
       "      <td>False</td>\n",
       "      <td>0</td>\n",
       "      <td>False</td>\n",
       "      <td>0</td>\n",
       "      <td>False</td>\n",
       "      <td>0</td>\n",
       "    </tr>\n",
       "    <tr>\n",
       "      <th>3</th>\n",
       "      <td>False</td>\n",
       "      <td>0</td>\n",
       "      <td>False</td>\n",
       "      <td>0</td>\n",
       "      <td>False</td>\n",
       "      <td>0</td>\n",
       "      <td>False</td>\n",
       "      <td>0</td>\n",
       "    </tr>\n",
       "    <tr>\n",
       "      <th>4</th>\n",
       "      <td>False</td>\n",
       "      <td>0</td>\n",
       "      <td>False</td>\n",
       "      <td>0</td>\n",
       "      <td>False</td>\n",
       "      <td>0</td>\n",
       "      <td>False</td>\n",
       "      <td>0</td>\n",
       "    </tr>\n",
       "  </tbody>\n",
       "</table>\n",
       "</div>"
      ],
      "text/plain": [
       "  z_place_match  z_place_match_num z_place_mismatch  z_place_mismatch_num  \\\n",
       "0         False                  0             True                     1   \n",
       "1         False                  0            False                     0   \n",
       "2         False                  0            False                     0   \n",
       "3         False                  0            False                     0   \n",
       "4         False                  0            False                     0   \n",
       "\n",
       "  z_q1_has_place  z_q1_place_num z_q2_has_place  z_q2_place_num  \n",
       "0           True               1          False               0  \n",
       "1          False               0           True               1  \n",
       "2          False               0          False               0  \n",
       "3          False               0          False               0  \n",
       "4          False               0          False               0  "
      ]
     },
     "execution_count": 13,
     "metadata": {},
     "output_type": "execute_result"
    }
   ],
   "source": [
    "out_df.head()\n"
   ]
  },
  {
   "cell_type": "code",
   "execution_count": 16,
   "metadata": {
    "collapsed": false
   },
   "outputs": [
    {
     "name": "stderr",
     "output_type": "stream",
     "text": [
      "\r",
      "0it [00:00, ?it/s]"
     ]
    },
    {
     "name": "stdout",
     "output_type": "stream",
     "text": [
      "processing: (2345796, 3)\n"
     ]
    },
    {
     "name": "stderr",
     "output_type": "stream",
     "text": [
      "2345796it [19:35, 1995.87it/s]\n"
     ]
    }
   ],
   "source": [
    "#Build test features\n",
    "df_test =pd.read_csv(data_folder + 'test.csv')\n",
    "\n",
    "from tqdm import tqdm\n",
    "\n",
    "subset = df_test.shape[0] # Remove the subsetting \n",
    "\n",
    "results = []\n",
    "print(\"processing:\", df_test[0:subset].shape)\n",
    "for index, row in tqdm(df_test[0:subset].iterrows()):\n",
    "    q1 = str(row['question1'])\n",
    "    q2 = str(row['question2'])\n",
    "\n",
    "    rr = {}\n",
    "\n",
    "    q1_matches = []\n",
    "    q2_matches = []\n",
    "\n",
    "    if (len(q1) > 0):\n",
    "        q1_matches = [i.lower() for i in re.findall(regex, q1, flags=re.IGNORECASE)]\n",
    "\n",
    "    if (len(q2) > 0):\n",
    "        q2_matches = [i.lower() for i in re.findall(regex, q2, flags=re.IGNORECASE)]\n",
    "\n",
    "    rr['z_q1_place_num'] = len(q1_matches)\n",
    "    rr['z_q1_has_place'] =len(q1_matches) > 0\n",
    "\n",
    "    rr['z_q2_place_num'] = len(q2_matches) \n",
    "    rr['z_q2_has_place'] = len(q2_matches) > 0\n",
    "\n",
    "    rr['z_place_match_num'] = len(set(q1_matches).intersection(set(q2_matches)))\n",
    "    rr['z_place_match'] = rr['z_place_match_num'] > 0\n",
    "\n",
    "    rr['z_place_mismatch_num'] = len(set(q1_matches).difference(set(q2_matches)))\n",
    "    rr['z_place_mismatch'] = rr['z_place_mismatch_num'] > 0\n",
    "\n",
    "    results.append(rr) "
   ]
  },
  {
   "cell_type": "code",
   "execution_count": 17,
   "metadata": {
    "collapsed": false
   },
   "outputs": [
    {
     "name": "stdout",
     "output_type": "stream",
     "text": [
      "(404290, 8)\n",
      "(2345796, 8)\n"
     ]
    }
   ],
   "source": [
    "test_out_df = pd.DataFrame.from_dict(results)\n",
    "print(out_df.shape)\n",
    "print(test_out_df.shape)\n"
   ]
  },
  {
   "cell_type": "code",
   "execution_count": 18,
   "metadata": {
    "collapsed": true
   },
   "outputs": [],
   "source": [
    "#Save features\n",
    "#Saving features:\n",
    "import pickle\n",
    "\n",
    "train_X1 = np.array(out_df[['z_place_match_num', 'z_place_mismatch_num','z_q1_place_num','z_q2_place_num']])\n",
    "\n",
    "test_X1 = np.array(test_out_df[['z_place_match_num', 'z_place_mismatch_num','z_q1_place_num','z_q2_place_num']])\n",
    "\n",
    "pickle.dump(train_X1, open(data_folder + 'feats10_locations.sav', 'wb'))\n",
    "pickle.dump(test_X1, open(data_folder + 'feats10_locations_for_test.sav', 'wb'))"
   ]
  },
  {
   "cell_type": "code",
   "execution_count": 19,
   "metadata": {
    "collapsed": true
   },
   "outputs": [],
   "source": [
    "#Check the dataset for specific examples:\n",
    "df['mismatch'] = out_df['z_place_mismatch_num']"
   ]
  },
  {
   "cell_type": "code",
   "execution_count": 32,
   "metadata": {
    "collapsed": false
   },
   "outputs": [],
   "source": [
    "df[(df.mismatch>=1) & (df.is_duplicate ==1)].to_csv(data_folder + 'check_location_mismatch.csv')"
   ]
  },
  {
   "cell_type": "code",
   "execution_count": null,
   "metadata": {
    "collapsed": true
   },
   "outputs": [],
   "source": []
  }
 ],
 "metadata": {
  "kernelspec": {
   "display_name": "Python 3",
   "language": "python",
   "name": "python3"
  },
  "language_info": {
   "codemirror_mode": {
    "name": "ipython",
    "version": 3
   },
   "file_extension": ".py",
   "mimetype": "text/x-python",
   "name": "python",
   "nbconvert_exporter": "python",
   "pygments_lexer": "ipython3",
   "version": "3.6.0"
  }
 },
 "nbformat": 4,
 "nbformat_minor": 2
}
